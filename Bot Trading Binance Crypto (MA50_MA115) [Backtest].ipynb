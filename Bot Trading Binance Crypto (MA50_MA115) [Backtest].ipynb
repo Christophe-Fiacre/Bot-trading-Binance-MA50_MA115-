{
 "cells": [
  {
   "cell_type": "markdown",
   "id": "db904e1e",
   "metadata": {},
   "source": [
    "# Bot Trading Binance Crypto (MA50_MA115) [Backtest]"
   ]
  },
  {
   "cell_type": "code",
   "execution_count": 2,
   "id": "2cbb5cb2",
   "metadata": {
    "collapsed": true
   },
   "outputs": [
    {
     "name": "stdout",
     "output_type": "stream",
     "text": [
      "Requirement already satisfied: python-binance in c:\\users\\open_\\anaconda3\\lib\\site-packages (1.0.19)\n",
      "Requirement already satisfied: requests in c:\\users\\open_\\anaconda3\\lib\\site-packages (from python-binance) (2.28.1)\n",
      "Requirement already satisfied: six in c:\\users\\open_\\anaconda3\\lib\\site-packages (from python-binance) (1.16.0)\n",
      "Requirement already satisfied: dateparser in c:\\users\\open_\\anaconda3\\lib\\site-packages (from python-binance) (1.2.0)\n",
      "Requirement already satisfied: aiohttp in c:\\users\\open_\\appdata\\roaming\\python\\python39\\site-packages (from python-binance) (3.8.5)\n",
      "Requirement already satisfied: ujson in c:\\users\\open_\\anaconda3\\lib\\site-packages (from python-binance) (5.4.0)\n",
      "Requirement already satisfied: websockets in c:\\users\\open_\\anaconda3\\lib\\site-packages (from python-binance) (12.0)\n",
      "Requirement already satisfied: pycryptodome in c:\\users\\open_\\anaconda3\\lib\\site-packages (from python-binance) (3.20.0)\n",
      "Requirement already satisfied: attrs>=17.3.0 in c:\\users\\open_\\anaconda3\\lib\\site-packages (from aiohttp->python-binance) (21.4.0)\n",
      "Requirement already satisfied: charset-normalizer<4.0,>=2.0 in c:\\users\\open_\\anaconda3\\lib\\site-packages (from aiohttp->python-binance) (2.0.4)\n",
      "Requirement already satisfied: multidict<7.0,>=4.5 in c:\\users\\open_\\appdata\\roaming\\python\\python39\\site-packages (from aiohttp->python-binance) (6.0.4)\n",
      "Requirement already satisfied: async-timeout<5.0,>=4.0.0a3 in c:\\users\\open_\\appdata\\roaming\\python\\python39\\site-packages (from aiohttp->python-binance) (4.0.3)\n",
      "Requirement already satisfied: yarl<2.0,>=1.0 in c:\\users\\open_\\appdata\\roaming\\python\\python39\\site-packages (from aiohttp->python-binance) (1.9.2)\n",
      "Requirement already satisfied: frozenlist>=1.1.1 in c:\\users\\open_\\appdata\\roaming\\python\\python39\\site-packages (from aiohttp->python-binance) (1.4.0)\n",
      "Requirement already satisfied: aiosignal>=1.1.2 in c:\\users\\open_\\appdata\\roaming\\python\\python39\\site-packages (from aiohttp->python-binance) (1.3.1)\n",
      "Requirement already satisfied: python-dateutil in c:\\users\\open_\\anaconda3\\lib\\site-packages (from dateparser->python-binance) (2.8.2)\n",
      "Requirement already satisfied: pytz in c:\\users\\open_\\anaconda3\\lib\\site-packages (from dateparser->python-binance) (2022.7)\n",
      "Requirement already satisfied: regex!=2019.02.19,!=2021.8.27 in c:\\users\\open_\\anaconda3\\lib\\site-packages (from dateparser->python-binance) (2022.7.9)\n",
      "Requirement already satisfied: tzlocal in c:\\users\\open_\\anaconda3\\lib\\site-packages (from dateparser->python-binance) (4.3)\n",
      "Requirement already satisfied: idna<4,>=2.5 in c:\\users\\open_\\anaconda3\\lib\\site-packages (from requests->python-binance) (3.4)\n",
      "Requirement already satisfied: urllib3<1.27,>=1.21.1 in c:\\users\\open_\\anaconda3\\lib\\site-packages (from requests->python-binance) (1.26.11)\n",
      "Requirement already satisfied: certifi>=2017.4.17 in c:\\users\\open_\\anaconda3\\lib\\site-packages (from requests->python-binance) (2023.5.7)\n",
      "Requirement already satisfied: pytz-deprecation-shim in c:\\users\\open_\\anaconda3\\lib\\site-packages (from tzlocal->dateparser->python-binance) (0.1.0.post0)\n",
      "Requirement already satisfied: tzdata in c:\\users\\open_\\anaconda3\\lib\\site-packages (from tzlocal->dateparser->python-binance) (2023.3)\n",
      "Note: you may need to restart the kernel to use updated packages.\n"
     ]
    },
    {
     "name": "stderr",
     "output_type": "stream",
     "text": [
      "\n",
      "[notice] A new release of pip is available: 23.2.1 -> 24.0\n",
      "[notice] To update, run: python.exe -m pip install --upgrade pip\n"
     ]
    }
   ],
   "source": [
    "# pip install python-binance\n",
    "# pip install --upgrade pip\n",
    "# pip install ta"
   ]
  },
  {
   "cell_type": "markdown",
   "id": "7df67587",
   "metadata": {},
   "source": [
    "### Import, define and download data"
   ]
  },
  {
   "cell_type": "code",
   "execution_count": 2,
   "id": "7aeb579e",
   "metadata": {},
   "outputs": [],
   "source": [
    "import pandas as pd\n",
    "from binance.client import Client\n",
    "import ta\n",
    "\n",
    "# Get historical BTCUSDT\n",
    "klinesT = Client().get_historical_klines(\"BTCUSDT\", Client.KLINE_INTERVAL_1DAY, \"01 January 2022\")\n",
    "data = pd.DataFrame(klinesT, columns = [\"timestamp\", \"open\", \"high\", \"low\", \"close\", \"volume\", \"close_time\", \"quote-av\", \"trades\", \"tb_base_av\", \",tb_quote_av\", \"ignore\"])"
   ]
  },
  {
   "cell_type": "code",
   "execution_count": 3,
   "id": "51e78305",
   "metadata": {
    "scrolled": false
   },
   "outputs": [
    {
     "data": {
      "text/html": [
       "<div>\n",
       "<style scoped>\n",
       "    .dataframe tbody tr th:only-of-type {\n",
       "        vertical-align: middle;\n",
       "    }\n",
       "\n",
       "    .dataframe tbody tr th {\n",
       "        vertical-align: top;\n",
       "    }\n",
       "\n",
       "    .dataframe thead th {\n",
       "        text-align: right;\n",
       "    }\n",
       "</style>\n",
       "<table border=\"1\" class=\"dataframe\">\n",
       "  <thead>\n",
       "    <tr style=\"text-align: right;\">\n",
       "      <th></th>\n",
       "      <th>timestamp</th>\n",
       "      <th>open</th>\n",
       "      <th>high</th>\n",
       "      <th>low</th>\n",
       "      <th>close</th>\n",
       "      <th>volume</th>\n",
       "      <th>close_time</th>\n",
       "      <th>quote-av</th>\n",
       "      <th>trades</th>\n",
       "      <th>tb_base_av</th>\n",
       "      <th>,tb_quote_av</th>\n",
       "      <th>ignore</th>\n",
       "    </tr>\n",
       "  </thead>\n",
       "  <tbody>\n",
       "    <tr>\n",
       "      <th>0</th>\n",
       "      <td>1640995200000</td>\n",
       "      <td>46216.93000000</td>\n",
       "      <td>47954.63000000</td>\n",
       "      <td>46208.37000000</td>\n",
       "      <td>47722.65000000</td>\n",
       "      <td>19604.46325000</td>\n",
       "      <td>1641081599999</td>\n",
       "      <td>924155159.58348650</td>\n",
       "      <td>714899</td>\n",
       "      <td>9942.36679000</td>\n",
       "      <td>468738711.79010650</td>\n",
       "      <td>0</td>\n",
       "    </tr>\n",
       "    <tr>\n",
       "      <th>1</th>\n",
       "      <td>1641081600000</td>\n",
       "      <td>47722.66000000</td>\n",
       "      <td>47990.00000000</td>\n",
       "      <td>46654.00000000</td>\n",
       "      <td>47286.18000000</td>\n",
       "      <td>18340.46040000</td>\n",
       "      <td>1641167999999</td>\n",
       "      <td>866610995.56335820</td>\n",
       "      <td>709624</td>\n",
       "      <td>9166.46954000</td>\n",
       "      <td>433182392.28194660</td>\n",
       "      <td>0</td>\n",
       "    </tr>\n",
       "    <tr>\n",
       "      <th>2</th>\n",
       "      <td>1641168000000</td>\n",
       "      <td>47286.18000000</td>\n",
       "      <td>47570.00000000</td>\n",
       "      <td>45696.00000000</td>\n",
       "      <td>46446.10000000</td>\n",
       "      <td>27662.07710000</td>\n",
       "      <td>1641254399999</td>\n",
       "      <td>1292203508.32565490</td>\n",
       "      <td>885624</td>\n",
       "      <td>13524.76045000</td>\n",
       "      <td>631879430.11428000</td>\n",
       "      <td>0</td>\n",
       "    </tr>\n",
       "    <tr>\n",
       "      <th>3</th>\n",
       "      <td>1641254400000</td>\n",
       "      <td>46446.10000000</td>\n",
       "      <td>47557.54000000</td>\n",
       "      <td>45500.00000000</td>\n",
       "      <td>45832.01000000</td>\n",
       "      <td>35491.41360000</td>\n",
       "      <td>1641340799999</td>\n",
       "      <td>1649170424.12761340</td>\n",
       "      <td>1021815</td>\n",
       "      <td>17689.26808000</td>\n",
       "      <td>821725463.08080750</td>\n",
       "      <td>0</td>\n",
       "    </tr>\n",
       "    <tr>\n",
       "      <th>4</th>\n",
       "      <td>1641340800000</td>\n",
       "      <td>45832.01000000</td>\n",
       "      <td>47070.00000000</td>\n",
       "      <td>42500.00000000</td>\n",
       "      <td>43451.13000000</td>\n",
       "      <td>51784.11857000</td>\n",
       "      <td>1641427199999</td>\n",
       "      <td>2334288544.64544840</td>\n",
       "      <td>1478532</td>\n",
       "      <td>23552.99460000</td>\n",
       "      <td>1063287226.35714140</td>\n",
       "      <td>0</td>\n",
       "    </tr>\n",
       "  </tbody>\n",
       "</table>\n",
       "</div>"
      ],
      "text/plain": [
       "       timestamp            open            high             low  \\\n",
       "0  1640995200000  46216.93000000  47954.63000000  46208.37000000   \n",
       "1  1641081600000  47722.66000000  47990.00000000  46654.00000000   \n",
       "2  1641168000000  47286.18000000  47570.00000000  45696.00000000   \n",
       "3  1641254400000  46446.10000000  47557.54000000  45500.00000000   \n",
       "4  1641340800000  45832.01000000  47070.00000000  42500.00000000   \n",
       "\n",
       "            close          volume     close_time             quote-av  \\\n",
       "0  47722.65000000  19604.46325000  1641081599999   924155159.58348650   \n",
       "1  47286.18000000  18340.46040000  1641167999999   866610995.56335820   \n",
       "2  46446.10000000  27662.07710000  1641254399999  1292203508.32565490   \n",
       "3  45832.01000000  35491.41360000  1641340799999  1649170424.12761340   \n",
       "4  43451.13000000  51784.11857000  1641427199999  2334288544.64544840   \n",
       "\n",
       "    trades      tb_base_av         ,tb_quote_av ignore  \n",
       "0   714899   9942.36679000   468738711.79010650      0  \n",
       "1   709624   9166.46954000   433182392.28194660      0  \n",
       "2   885624  13524.76045000   631879430.11428000      0  \n",
       "3  1021815  17689.26808000   821725463.08080750      0  \n",
       "4  1478532  23552.99460000  1063287226.35714140      0  "
      ]
     },
     "metadata": {},
     "output_type": "display_data"
    },
    {
     "name": "stdout",
     "output_type": "stream",
     "text": [
      "<class 'pandas.core.frame.DataFrame'>\n",
      "RangeIndex: 829 entries, 0 to 828\n",
      "Data columns (total 12 columns):\n",
      " #   Column        Non-Null Count  Dtype \n",
      "---  ------        --------------  ----- \n",
      " 0   timestamp     829 non-null    int64 \n",
      " 1   open          829 non-null    object\n",
      " 2   high          829 non-null    object\n",
      " 3   low           829 non-null    object\n",
      " 4   close         829 non-null    object\n",
      " 5   volume        829 non-null    object\n",
      " 6   close_time    829 non-null    int64 \n",
      " 7   quote-av      829 non-null    object\n",
      " 8   trades        829 non-null    int64 \n",
      " 9   tb_base_av    829 non-null    object\n",
      " 10  ,tb_quote_av  829 non-null    object\n",
      " 11  ignore        829 non-null    object\n",
      "dtypes: int64(3), object(9)\n",
      "memory usage: 77.8+ KB\n"
     ]
    }
   ],
   "source": [
    "display(data.head())\n",
    "data.info()"
   ]
  },
  {
   "cell_type": "markdown",
   "id": "32c22172",
   "metadata": {},
   "source": [
    "### Clean Dataset"
   ]
  },
  {
   "cell_type": "code",
   "execution_count": 4,
   "id": "3a1a8dd3",
   "metadata": {},
   "outputs": [
    {
     "data": {
      "text/html": [
       "<div>\n",
       "<style scoped>\n",
       "    .dataframe tbody tr th:only-of-type {\n",
       "        vertical-align: middle;\n",
       "    }\n",
       "\n",
       "    .dataframe tbody tr th {\n",
       "        vertical-align: top;\n",
       "    }\n",
       "\n",
       "    .dataframe thead th {\n",
       "        text-align: right;\n",
       "    }\n",
       "</style>\n",
       "<table border=\"1\" class=\"dataframe\">\n",
       "  <thead>\n",
       "    <tr style=\"text-align: right;\">\n",
       "      <th></th>\n",
       "      <th>timestamp</th>\n",
       "      <th>open</th>\n",
       "      <th>high</th>\n",
       "      <th>low</th>\n",
       "      <th>close</th>\n",
       "      <th>volume</th>\n",
       "    </tr>\n",
       "  </thead>\n",
       "  <tbody>\n",
       "    <tr>\n",
       "      <th>0</th>\n",
       "      <td>1640995200000</td>\n",
       "      <td>46216.93000000</td>\n",
       "      <td>47954.63000000</td>\n",
       "      <td>46208.37000000</td>\n",
       "      <td>47722.65000000</td>\n",
       "      <td>19604.46325000</td>\n",
       "    </tr>\n",
       "    <tr>\n",
       "      <th>1</th>\n",
       "      <td>1641081600000</td>\n",
       "      <td>47722.66000000</td>\n",
       "      <td>47990.00000000</td>\n",
       "      <td>46654.00000000</td>\n",
       "      <td>47286.18000000</td>\n",
       "      <td>18340.46040000</td>\n",
       "    </tr>\n",
       "    <tr>\n",
       "      <th>2</th>\n",
       "      <td>1641168000000</td>\n",
       "      <td>47286.18000000</td>\n",
       "      <td>47570.00000000</td>\n",
       "      <td>45696.00000000</td>\n",
       "      <td>46446.10000000</td>\n",
       "      <td>27662.07710000</td>\n",
       "    </tr>\n",
       "    <tr>\n",
       "      <th>3</th>\n",
       "      <td>1641254400000</td>\n",
       "      <td>46446.10000000</td>\n",
       "      <td>47557.54000000</td>\n",
       "      <td>45500.00000000</td>\n",
       "      <td>45832.01000000</td>\n",
       "      <td>35491.41360000</td>\n",
       "    </tr>\n",
       "    <tr>\n",
       "      <th>4</th>\n",
       "      <td>1641340800000</td>\n",
       "      <td>45832.01000000</td>\n",
       "      <td>47070.00000000</td>\n",
       "      <td>42500.00000000</td>\n",
       "      <td>43451.13000000</td>\n",
       "      <td>51784.11857000</td>\n",
       "    </tr>\n",
       "  </tbody>\n",
       "</table>\n",
       "</div>"
      ],
      "text/plain": [
       "       timestamp            open            high             low  \\\n",
       "0  1640995200000  46216.93000000  47954.63000000  46208.37000000   \n",
       "1  1641081600000  47722.66000000  47990.00000000  46654.00000000   \n",
       "2  1641168000000  47286.18000000  47570.00000000  45696.00000000   \n",
       "3  1641254400000  46446.10000000  47557.54000000  45500.00000000   \n",
       "4  1641340800000  45832.01000000  47070.00000000  42500.00000000   \n",
       "\n",
       "            close          volume  \n",
       "0  47722.65000000  19604.46325000  \n",
       "1  47286.18000000  18340.46040000  \n",
       "2  46446.10000000  27662.07710000  \n",
       "3  45832.01000000  35491.41360000  \n",
       "4  43451.13000000  51784.11857000  "
      ]
     },
     "execution_count": 4,
     "metadata": {},
     "output_type": "execute_result"
    }
   ],
   "source": [
    "# Drop columns\n",
    "df = data.drop([\"ignore\", \"close_time\", \"quote-av\", \"trades\", \"tb_base_av\", \",tb_quote_av\"], axis=1)\n",
    "df.head()"
   ]
  },
  {
   "cell_type": "code",
   "execution_count": 5,
   "id": "cb645fc3",
   "metadata": {},
   "outputs": [
    {
     "name": "stdout",
     "output_type": "stream",
     "text": [
      "<class 'pandas.core.frame.DataFrame'>\n",
      "RangeIndex: 829 entries, 0 to 828\n",
      "Data columns (total 6 columns):\n",
      " #   Column     Non-Null Count  Dtype  \n",
      "---  ------     --------------  -----  \n",
      " 0   timestamp  829 non-null    int64  \n",
      " 1   open       829 non-null    float64\n",
      " 2   high       829 non-null    float64\n",
      " 3   low        829 non-null    float64\n",
      " 4   close      829 non-null    float64\n",
      " 5   volume     829 non-null    float64\n",
      "dtypes: float64(5), int64(1)\n",
      "memory usage: 39.0 KB\n"
     ]
    }
   ],
   "source": [
    "colonnes = [\"open\", \"high\", \"low\", \"close\", \"volume\"]\n",
    "\n",
    "for nom_colonne in colonnes:\n",
    "    df[nom_colonne] = pd.to_numeric(df[nom_colonne])\n",
    "df.info()"
   ]
  },
  {
   "cell_type": "markdown",
   "id": "7ed0c6f1",
   "metadata": {},
   "source": [
    "### Convert time"
   ]
  },
  {
   "cell_type": "code",
   "execution_count": 6,
   "id": "3edfbea3",
   "metadata": {},
   "outputs": [
    {
     "data": {
      "text/html": [
       "<div>\n",
       "<style scoped>\n",
       "    .dataframe tbody tr th:only-of-type {\n",
       "        vertical-align: middle;\n",
       "    }\n",
       "\n",
       "    .dataframe tbody tr th {\n",
       "        vertical-align: top;\n",
       "    }\n",
       "\n",
       "    .dataframe thead th {\n",
       "        text-align: right;\n",
       "    }\n",
       "</style>\n",
       "<table border=\"1\" class=\"dataframe\">\n",
       "  <thead>\n",
       "    <tr style=\"text-align: right;\">\n",
       "      <th></th>\n",
       "      <th>open</th>\n",
       "      <th>high</th>\n",
       "      <th>low</th>\n",
       "      <th>close</th>\n",
       "      <th>volume</th>\n",
       "    </tr>\n",
       "    <tr>\n",
       "      <th>timestamp</th>\n",
       "      <th></th>\n",
       "      <th></th>\n",
       "      <th></th>\n",
       "      <th></th>\n",
       "      <th></th>\n",
       "    </tr>\n",
       "  </thead>\n",
       "  <tbody>\n",
       "    <tr>\n",
       "      <th>2022-01-01</th>\n",
       "      <td>46216.93</td>\n",
       "      <td>47954.63</td>\n",
       "      <td>46208.37</td>\n",
       "      <td>47722.65</td>\n",
       "      <td>19604.46325</td>\n",
       "    </tr>\n",
       "    <tr>\n",
       "      <th>2022-01-02</th>\n",
       "      <td>47722.66</td>\n",
       "      <td>47990.00</td>\n",
       "      <td>46654.00</td>\n",
       "      <td>47286.18</td>\n",
       "      <td>18340.46040</td>\n",
       "    </tr>\n",
       "    <tr>\n",
       "      <th>2022-01-03</th>\n",
       "      <td>47286.18</td>\n",
       "      <td>47570.00</td>\n",
       "      <td>45696.00</td>\n",
       "      <td>46446.10</td>\n",
       "      <td>27662.07710</td>\n",
       "    </tr>\n",
       "    <tr>\n",
       "      <th>2022-01-04</th>\n",
       "      <td>46446.10</td>\n",
       "      <td>47557.54</td>\n",
       "      <td>45500.00</td>\n",
       "      <td>45832.01</td>\n",
       "      <td>35491.41360</td>\n",
       "    </tr>\n",
       "    <tr>\n",
       "      <th>2022-01-05</th>\n",
       "      <td>45832.01</td>\n",
       "      <td>47070.00</td>\n",
       "      <td>42500.00</td>\n",
       "      <td>43451.13</td>\n",
       "      <td>51784.11857</td>\n",
       "    </tr>\n",
       "  </tbody>\n",
       "</table>\n",
       "</div>"
      ],
      "text/plain": [
       "                open      high       low     close       volume\n",
       "timestamp                                                      \n",
       "2022-01-01  46216.93  47954.63  46208.37  47722.65  19604.46325\n",
       "2022-01-02  47722.66  47990.00  46654.00  47286.18  18340.46040\n",
       "2022-01-03  47286.18  47570.00  45696.00  46446.10  27662.07710\n",
       "2022-01-04  46446.10  47557.54  45500.00  45832.01  35491.41360\n",
       "2022-01-05  45832.01  47070.00  42500.00  43451.13  51784.11857"
      ]
     },
     "execution_count": 6,
     "metadata": {},
     "output_type": "execute_result"
    }
   ],
   "source": [
    "# Timestamp to datetime and index\n",
    "df = df.set_index(df[\"timestamp\"])\n",
    "df.index = pd.to_datetime(df.index, unit=\"ms\")\n",
    "\n",
    "df.drop([\"timestamp\"], axis=1, inplace=True)\n",
    "\n",
    "df.head()"
   ]
  },
  {
   "cell_type": "markdown",
   "id": "057ad30b",
   "metadata": {},
   "source": [
    "### Define my indicators"
   ]
  },
  {
   "cell_type": "code",
   "execution_count": 7,
   "id": "876c1ea9",
   "metadata": {},
   "outputs": [
    {
     "data": {
      "text/html": [
       "<div>\n",
       "<style scoped>\n",
       "    .dataframe tbody tr th:only-of-type {\n",
       "        vertical-align: middle;\n",
       "    }\n",
       "\n",
       "    .dataframe tbody tr th {\n",
       "        vertical-align: top;\n",
       "    }\n",
       "\n",
       "    .dataframe thead th {\n",
       "        text-align: right;\n",
       "    }\n",
       "</style>\n",
       "<table border=\"1\" class=\"dataframe\">\n",
       "  <thead>\n",
       "    <tr style=\"text-align: right;\">\n",
       "      <th></th>\n",
       "      <th>open</th>\n",
       "      <th>high</th>\n",
       "      <th>low</th>\n",
       "      <th>close</th>\n",
       "      <th>volume</th>\n",
       "      <th>sma50</th>\n",
       "      <th>sma115</th>\n",
       "    </tr>\n",
       "    <tr>\n",
       "      <th>timestamp</th>\n",
       "      <th></th>\n",
       "      <th></th>\n",
       "      <th></th>\n",
       "      <th></th>\n",
       "      <th></th>\n",
       "      <th></th>\n",
       "      <th></th>\n",
       "    </tr>\n",
       "  </thead>\n",
       "  <tbody>\n",
       "    <tr>\n",
       "      <th>2024-04-04</th>\n",
       "      <td>65963.27</td>\n",
       "      <td>69309.91</td>\n",
       "      <td>65064.52</td>\n",
       "      <td>68487.79</td>\n",
       "      <td>41510.48453</td>\n",
       "      <td>63425.8146</td>\n",
       "      <td>52160.547130</td>\n",
       "    </tr>\n",
       "    <tr>\n",
       "      <th>2024-04-05</th>\n",
       "      <td>68487.80</td>\n",
       "      <td>68756.67</td>\n",
       "      <td>65952.56</td>\n",
       "      <td>67820.62</td>\n",
       "      <td>37915.23073</td>\n",
       "      <td>63744.6270</td>\n",
       "      <td>52389.488261</td>\n",
       "    </tr>\n",
       "    <tr>\n",
       "      <th>2024-04-06</th>\n",
       "      <td>67820.63</td>\n",
       "      <td>69692.00</td>\n",
       "      <td>67447.83</td>\n",
       "      <td>68896.00</td>\n",
       "      <td>20134.28919</td>\n",
       "      <td>64080.0648</td>\n",
       "      <td>52615.809739</td>\n",
       "    </tr>\n",
       "    <tr>\n",
       "      <th>2024-04-07</th>\n",
       "      <td>68896.00</td>\n",
       "      <td>70326.29</td>\n",
       "      <td>68824.00</td>\n",
       "      <td>69360.39</td>\n",
       "      <td>21534.74433</td>\n",
       "      <td>64434.4198</td>\n",
       "      <td>52844.836957</td>\n",
       "    </tr>\n",
       "    <tr>\n",
       "      <th>2024-04-08</th>\n",
       "      <td>69360.38</td>\n",
       "      <td>72797.99</td>\n",
       "      <td>69043.24</td>\n",
       "      <td>72191.95</td>\n",
       "      <td>29645.57971</td>\n",
       "      <td>64835.5054</td>\n",
       "      <td>53107.894783</td>\n",
       "    </tr>\n",
       "  </tbody>\n",
       "</table>\n",
       "</div>"
      ],
      "text/plain": [
       "                open      high       low     close       volume       sma50  \\\n",
       "timestamp                                                                     \n",
       "2024-04-04  65963.27  69309.91  65064.52  68487.79  41510.48453  63425.8146   \n",
       "2024-04-05  68487.80  68756.67  65952.56  67820.62  37915.23073  63744.6270   \n",
       "2024-04-06  67820.63  69692.00  67447.83  68896.00  20134.28919  64080.0648   \n",
       "2024-04-07  68896.00  70326.29  68824.00  69360.39  21534.74433  64434.4198   \n",
       "2024-04-08  69360.38  72797.99  69043.24  72191.95  29645.57971  64835.5054   \n",
       "\n",
       "                  sma115  \n",
       "timestamp                 \n",
       "2024-04-04  52160.547130  \n",
       "2024-04-05  52389.488261  \n",
       "2024-04-06  52615.809739  \n",
       "2024-04-07  52844.836957  \n",
       "2024-04-08  53107.894783  "
      ]
     },
     "execution_count": 7,
     "metadata": {},
     "output_type": "execute_result"
    }
   ],
   "source": [
    "df[\"sma50\"] = ta.trend.sma_indicator(df[\"close\"],50)\n",
    "df[\"sma115\"] = ta.trend.sma_indicator(df[\"close\"],115)\n",
    "df.tail()"
   ]
  },
  {
   "cell_type": "markdown",
   "id": "237f07b1",
   "metadata": {},
   "source": [
    "### Backtest"
   ]
  },
  {
   "cell_type": "code",
   "execution_count": 28,
   "id": "fb4c0976",
   "metadata": {
    "scrolled": false
   },
   "outputs": [
    {
     "name": "stdout",
     "output_type": "stream",
     "text": [
      "Buy BTC at 21148.52 usdt the 2022-11-05 00:00:00\n",
      "Sell BTC at 20590.67 usdt the 2022-11-08 00:00:00\n",
      "Buy BTC at 18846.62 usdt the 2023-01-13 00:00:00\n",
      "Sell BTC at 22354.34 usdt the 2023-03-04 00:00:00\n",
      "Buy BTC at 24112.27 usdt the 2023-03-14 00:00:00\n",
      "Sell BTC at 28068.26 usdt the 2023-05-02 00:00:00\n",
      "Buy BTC at 28669.85 usdt the 2023-05-03 00:00:00\n",
      "Sell BTC at 28430.09 usdt the 2023-05-08 00:00:00\n",
      "Buy BTC at 28308.0 usdt the 2023-06-21 00:00:00\n",
      "Sell BTC at 29281.09 usdt the 2023-07-31 00:00:00\n",
      "Buy BTC at 29705.99 usdt the 2023-08-02 00:00:00\n",
      "Sell BTC at 29186.0 usdt the 2023-08-03 00:00:00\n",
      "Buy BTC at 28500.77 usdt the 2023-10-17 00:00:00\n",
      "Sell BTC at 41732.35 usdt the 2024-01-15 00:00:00\n",
      "Buy BTC at 43137.94 usdt the 2024-01-17 00:00:00\n",
      "Sell BTC at 42776.09 usdt the 2024-01-18 00:00:00\n",
      "Buy BTC at 43302.71 usdt the 2024-01-30 00:00:00\n",
      "Sell BTC at 42580.0 usdt the 2024-02-01 00:00:00\n",
      "Buy BTC at 43082.95 usdt the 2024-02-02 00:00:00\n",
      "Sell BTC at 42582.88 usdt the 2024-02-05 00:00:00\n",
      "Buy BTC at 43098.96 usdt the 2024-02-07 00:00:00\n"
     ]
    },
    {
     "data": {
      "image/png": "[encoded data removed]",
      "text/plain": [
       "<Figure size 1000x600 with 1 Axes>"
      ]
     },
     "metadata": {},
     "output_type": "display_data"
    }
   ],
   "source": [
    "import matplotlib.pyplot as plt\n",
    "\n",
    "usdt = 1000\n",
    "btc = 0\n",
    "lastindex = df.first_valid_index()\n",
    "\n",
    "# Create lists to stock data wallet\n",
    "dates = []\n",
    "wallet = []\n",
    "\n",
    "for index, row, in df.iterrows():\n",
    "    if df[\"close\"][lastindex] > df[\"sma115\"][lastindex] and df[\"close\"][lastindex] > df[\"sma50\"][lastindex] and usdt > 10:\n",
    "        btc = usdt / df[\"open\"][index]\n",
    "        btc = btc - 0.007 * btc\n",
    "        usdt = 0\n",
    "        print(\"Buy BTC at\", df[\"open\"][index], \"usdt the\", index)\n",
    "\n",
    "    if df[\"close\"][lastindex] < df[\"sma115\"][lastindex] and btc > 0.0001:\n",
    "        usdt = btc * df[\"open\"][index]\n",
    "        usdt = usdt - 0.007 * usdt\n",
    "        btc = 0\n",
    "        print(\"Sell BTC at\", df[\"open\"][index], \"usdt the\", index)\n",
    "        \n",
    "    if df[\"close\"][lastindex] < df[\"sma50\"][lastindex] and btc > 0.0001:\n",
    "        usdt = btc * df[\"open\"][index]\n",
    "        usdt = usdt - 0.007 * usdt\n",
    "        btc = 0\n",
    "        print(\"Sell BTC at\", df[\"open\"][index], \"usdt the\", index)\n",
    "        \n",
    "    lastindex = index\n",
    "        \n",
    "    # Ajouter la date et la valeur du portefeuille aux listes\n",
    "    dates.append(index)\n",
    "    wallet.append(usdt + btc * df[\"close\"][index])\n",
    "\n",
    "# Tracer le graphique du portefeuille en USDT\n",
    "plt.figure(figsize=(10,6))\n",
    "plt.plot(dates, wallet, label='Wallet (USDT)')\n",
    "plt.xticks(rotation='45')\n",
    "plt.xlabel('Date')\n",
    "plt.ylabel('Value in USDT')\n",
    "plt.title('Wallet performance in USDT')\n",
    "plt.legend()\n",
    "plt.show()"
   ]
  },
  {
   "cell_type": "markdown",
   "id": "6b49bb65",
   "metadata": {},
   "source": [
    "### Print final result and buy and hold result"
   ]
  },
  {
   "cell_type": "code",
   "execution_count": 29,
   "id": "c6358fd7",
   "metadata": {},
   "outputs": [
    {
     "name": "stdout",
     "output_type": "stream",
     "text": [
      "Final result : 2763.07 usdt (+ 276.31 %)\n"
     ]
    }
   ],
   "source": [
    "finalResult = usdt + btc * df[\"close\"].iloc[-1]\n",
    "performance = (wallet[-1] / wallet[0]) * 100\n",
    "\n",
    "print(f\"Final result : {round(finalResult,2)} usdt (+ {round(performance,2)} %)\")"
   ]
  },
  {
   "cell_type": "code",
   "execution_count": 30,
   "id": "83ecfd15",
   "metadata": {},
   "outputs": [
    {
     "name": "stdout",
     "output_type": "stream",
     "text": [
      "Buy and hold result : 1512.74 usdt (+ 151.27 %)\n"
     ]
    }
   ],
   "source": [
    "bahResult = (wallet[0] / df[\"close\"].iloc[0]) * df[\"close\"].iloc[-1]\n",
    "bahPerformance = (bahResult / wallet[0]) * 100\n",
    "\n",
    "print(f\"Buy and hold result : {round(bahResult,2)} usdt (+ {round(bahPerformance,2)} %)\")"
   ]
  }
 ],
 "metadata": {
  "kernelspec": {
   "display_name": "Python 3 (ipykernel)",
   "language": "python",
   "name": "python3"
  },
  "language_info": {
   "codemirror_mode": {
    "name": "ipython",
    "version": 3
   },
   "file_extension": ".py",
   "mimetype": "text/x-python",
   "name": "python",
   "nbconvert_exporter": "python",
   "pygments_lexer": "ipython3",
   "version": "3.9.12"
  }
 },
 "nbformat": 4,
 "nbformat_minor": 5
}
